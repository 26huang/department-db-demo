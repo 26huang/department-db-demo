{
 "cells": [
  {
   "cell_type": "code",
   "execution_count": null,
   "id": "c71bcbf6",
   "metadata": {},
   "outputs": [],
   "source": [
    "import sqlite3\n",
    "import pandas as pd"
   ]
  },
  {
   "cell_type": "code",
   "execution_count": null,
   "id": "08329076",
   "metadata": {},
   "outputs": [],
   "source": [
    "# DDL: Data Definition Language\n",
    "# DML: Data Manipulation Language"
   ]
  },
  {
   "cell_type": "code",
   "execution_count": null,
   "id": "9ea57510",
   "metadata": {},
   "outputs": [],
   "source": [
    "def db_ddl(cmd):\n",
    "    conn = sqlite3.connect(\"./Data/database.db\")\n",
    "    c = conn.cursor()\n",
    "    c.execute(cmd)\n",
    "    data = c.fetchall()\n",
    "    conn.close()\n",
    "    return data\n",
    "\n",
    "def db_dml(cmd, value=0):\n",
    "    conn = sqlite3.connect(\"./Data/database.db\")\n",
    "    c = conn.cursor()\n",
    "    if value:\n",
    "        c.execute(cmd, value)\n",
    "    else: \n",
    "        c.execute(cmd)\n",
    "    conn.commit()\n",
    "    conn.close()\n",
    "    \n",
    "def drop_table(table):\n",
    "    db_ddl(\"drop table '{}'\".format(table))\n",
    "    \n",
    "def read_table(table):\n",
    "    conn = sqlite3.connect(\"./Data/database.db\")\n",
    "    data = pd.read_sql_query(\"select * from {}\".format(table), conn)\n",
    "    conn.close()\n",
    "    return data\n",
    "\n",
    "def check_data(data_list):\n",
    "    return len(set([len(i) for i in data_list]))"
   ]
  },
  {
   "cell_type": "code",
   "execution_count": null,
   "id": "0ffc864f",
   "metadata": {},
   "outputs": [],
   "source": [
    "#initialize db\n",
    "db_dml(\"\")"
   ]
  },
  {
   "cell_type": "code",
   "execution_count": null,
   "id": "800a63e7",
   "metadata": {},
   "outputs": [],
   "source": [
    "# db definitions\n",
    "tables = ['EMPLOYEE', 'DEPARTMENT', 'DEPT_LOCATIONS', 'PROJECT', 'WORKS_ON', 'DEPENDENT']\n",
    "employee = \"('Fname' varchar(255), 'Minit' int, 'Lname' varchar(255), 'Ssn' int, 'Bdate' date, 'Address' varchar(255), 'Sex' varchar(255), 'Salary' float, 'Super_ssn' int, 'Dno' int, primary key ('Ssn'))\"\n",
    "department = \"('Dname' varchar(255), 'Dnumber' int, 'Mgr_ssn' int, 'Mgr_start_date' date, primary key ('Dnumber'))\"\n",
    "dept_locations = \"('Dnumber' int, 'Dlocation' varchar(255), primary key(Dnumber, Dlocation))\"\n",
    "project = \"('Pname' varchar(255), 'Pnumber' int, 'Plocation' varchar(255), 'Dnum' int, primary key ('Pnumber'))\"\n",
    "works_on = \"('Essn' int, 'Pno' int, 'Hours' float, primary key ('Essn', 'Pno'))\"\n",
    "dependent = \"('Essn' int, 'Dependent_name' varchar(255), 'Sex' varchar(255), 'Bdate' date, 'Relationship' varchar(255), primary key(Essn, Dependent_name))\"\n",
    "fields = [employee, department, dept_locations, project, works_on, dependent]"
   ]
  },
  {
   "cell_type": "code",
   "execution_count": null,
   "id": "af0db3dd",
   "metadata": {},
   "outputs": [],
   "source": [
    "for i in range(len(tables)):\n",
    "    db_ddl(\"create table if not exists {} {}\".format(tables[i], fields[i]))"
   ]
  },
  {
   "cell_type": "code",
   "execution_count": null,
   "id": "1fc0d6fc",
   "metadata": {},
   "outputs": [],
   "source": [
    "# check tables in database\n",
    "conn = sqlite3.connect(\"./Data/database.db\")\n",
    "print(pd.read_sql_query(\"select name from sqlite_master where type='table'\", conn))"
   ]
  },
  {
   "cell_type": "code",
   "execution_count": null,
   "id": "03a8e49d",
   "metadata": {},
   "outputs": [],
   "source": [
    "# check table definitions\n",
    "for i in tables:\n",
    "    print(i, ' TABLE\\n', pd.read_sql_query(\"select * from pragma_table_info('{}')\".format(i), conn), '\\n')"
   ]
  },
  {
   "cell_type": "code",
   "execution_count": null,
   "id": "27d728b1",
   "metadata": {
    "scrolled": true
   },
   "outputs": [],
   "source": [
    "for i in tables:\n",
    "    print(i, ' TABLE\\n', list(pd.read_sql_query(\"select name from pragma_table_info('{}')\".format(i), conn)['name']), '\\n')"
   ]
  },
  {
   "cell_type": "code",
   "execution_count": null,
   "id": "a5fbbfc9",
   "metadata": {},
   "outputs": [],
   "source": [
    "# EMPLOYEE table\n",
    "Fname = ['John', 'Franklin', 'Alicia', 'Jennifer', 'Ramesh', 'Joyce', 'Ahmad', 'James']\n",
    "Minit = ['B', 'T', 'J', 'S', 'K', 'A', 'V', 'E']\n",
    "Lname = ['Smith', 'Wong', 'Zelaya', 'Wallace', 'Narayan', 'English', 'Jabbar', 'Borg']\n",
    "Ssn = [123456789, 333445555, 999887777, 9876554321, 666884444, 453453453, 987987987, 888665555]\n",
    "Bdate = ['1965-01-09', '1955-12-08', '1968-01-19', '1941-06-20', '1962-09-15', '1972-07-31', '1969-03-29', '1937-11-10']\n",
    "Address = ['731 F, Houston, TX', '638 V, Houston, TX', '3321 C, Spring, TX', '291 B, Bellaire, TX', '975 F, Humble, Tx', '5631 R, Houston, TX', '980 D, Houston, TX', '450 S, Houston, TX']\n",
    "Sex = ['M', 'M', 'F', 'F', 'M', 'F', 'M', 'M']\n",
    "Salary = [30000, 40000, 25000, 43000, 38000, 25000, 25000, 55000]\n",
    "Super_ssn = [333445555, 888665555, 987654321, 888665555, 333445555, 333445555, 987654321, (None)]\n",
    "Dno = [5, 5, 4, 4, 5, 5, 4, 1]\n",
    "employee_table = [Fname, Minit, Lname, Ssn, Bdate, Address, Sex, Salary, Super_ssn, Dno]"
   ]
  },
  {
   "cell_type": "code",
   "execution_count": null,
   "id": "a3e326dd",
   "metadata": {},
   "outputs": [],
   "source": [
    "for i in range(len(Fname)):\n",
    "    db_dml(\"insert or ignore into employee ('Fname', 'Minit', 'Lname', 'Ssn', 'Bdate', 'Address', 'Sex', 'Salary', 'Super_ssn', 'Dno') values(?, ?, ?, ?, ?, ?, ?, ?, ?, ?)\", (Fname[i], Minit[i], Lname[i], Ssn[i], Bdate[i], Address[i], Sex[i], Salary[i], Super_ssn[i], Dno[i]))"
   ]
  },
  {
   "cell_type": "code",
   "execution_count": null,
   "id": "1dbe9278",
   "metadata": {},
   "outputs": [],
   "source": [
    "# Check table values\n",
    "read_table('EMPLOYEE')"
   ]
  },
  {
   "cell_type": "code",
   "execution_count": null,
   "id": "607f86ce",
   "metadata": {},
   "outputs": [],
   "source": [
    "# DEPARTMENT Table\n",
    "Dname = ['Research', 'Administration', 'Headquarters']\n",
    "Dnumber = [5, 4, 1]\n",
    "Mgr_ssn = [333445555, 987654321, 888665555]\n",
    "Mgr_start_date = ['1988-05-22', '1995-01-01', '1981-06-19']"
   ]
  },
  {
   "cell_type": "code",
   "execution_count": null,
   "id": "c4f17336",
   "metadata": {},
   "outputs": [],
   "source": [
    "for i in range(len(Dname)):\n",
    "    db_dml(\"insert or ignore into department ('Dname', 'Dnumber', 'Mgr_ssn', 'Mgr_start_date') values (?, ?, ?, ?)\", (Dname[i], Dnumber[i], Mgr_ssn[i], Mgr_start_date[i]))"
   ]
  },
  {
   "cell_type": "code",
   "execution_count": null,
   "id": "d67a3d06",
   "metadata": {},
   "outputs": [],
   "source": [
    "read_table('DEPARTMENT')"
   ]
  },
  {
   "cell_type": "code",
   "execution_count": null,
   "id": "82e4c323",
   "metadata": {},
   "outputs": [],
   "source": [
    "# DEPT_LOCATIONS table\n",
    "Dnumber = [1, 4, 5, 5, 5]\n",
    "Dlocation = ['Houston', 'Stafford', 'Bellaire', 'Sugarland', 'Houston']"
   ]
  },
  {
   "cell_type": "code",
   "execution_count": null,
   "id": "81188c0f",
   "metadata": {},
   "outputs": [],
   "source": [
    "for i in range(len(Dnumber)):\n",
    "    db_dml(\"insert or ignore into dept_locations ('Dnumber', 'Dlocation') values (?, ?)\", (Dnumber[i], Dlocation[i]))"
   ]
  },
  {
   "cell_type": "code",
   "execution_count": null,
   "id": "d5aeffb4",
   "metadata": {},
   "outputs": [],
   "source": [
    "read_table('dept_locations')"
   ]
  },
  {
   "cell_type": "code",
   "execution_count": null,
   "id": "722dbbe4",
   "metadata": {},
   "outputs": [],
   "source": [
    "# WORKS_ON table\n",
    "Essn = [123456789, 123456789, 666884444, 453453453, 453453453, 333445555, 333445555, 333445555, 333445555, 999887777, 999887777, 987987987, 987987987, 987654321, 987654321, 888665555]\n",
    "Pno = [1, 2, 3, 1, 2, 2, 3, 10, 20, 30, 10, 10, 30, 30, 20, 20]\n",
    "Hours = [32.5, 7.5, 40, 20, 20, 10, 10, 10, 10, 30, 10, 35, 5, 20, 15, None]\n",
    "works_on_table = [Essn, Pno, Hours]"
   ]
  },
  {
   "cell_type": "code",
   "execution_count": null,
   "id": "75726851",
   "metadata": {},
   "outputs": [],
   "source": [
    "check_data(works_on_table)"
   ]
  },
  {
   "cell_type": "code",
   "execution_count": null,
   "id": "985b017b",
   "metadata": {},
   "outputs": [],
   "source": [
    "for i in range(len(Essn)):\n",
    "    db_dml(\"insert or ignore into works_on ('Essn', 'Pno', 'Hours') values (?, ?, ?)\", (Essn[i], Pno[i], Hours[i]))"
   ]
  },
  {
   "cell_type": "code",
   "execution_count": null,
   "id": "12b194e6",
   "metadata": {},
   "outputs": [],
   "source": [
    "read_table(\"works_on\")"
   ]
  },
  {
   "cell_type": "code",
   "execution_count": null,
   "id": "6f7a2bf8",
   "metadata": {},
   "outputs": [],
   "source": [
    "# PROJECT table\n",
    "Pname = ['ProductX', 'ProductY', 'ProductZ', 'Computerization', 'Reorganization', 'Newbenefits']\n",
    "Pnumber = [1, 2, 3, 10, 20, 30]\n",
    "Plocation = ['Bellaire', 'Sugarland', 'Houston', 'Stafford', 'Houston', 'Stafford']\n",
    "Dnum = [5, 5, 5, 4, 1, 4]\n",
    "project_table = [Pname, Pnumber, Plocation, Dnum]"
   ]
  },
  {
   "cell_type": "code",
   "execution_count": null,
   "id": "acd4a2d0",
   "metadata": {},
   "outputs": [],
   "source": [
    "for i in range(len(Pname)):\n",
    "    db_dml(\"insert or ignore into project ('Pname', 'Pnumber', 'Plocation', 'Dnum') values (?, ?, ?, ?)\", (Pname[i], Pnumber[i], Plocation[i], Dnum[i]))"
   ]
  },
  {
   "cell_type": "code",
   "execution_count": null,
   "id": "aa5ab7ac",
   "metadata": {},
   "outputs": [],
   "source": [
    "read_table('project')"
   ]
  },
  {
   "cell_type": "code",
   "execution_count": null,
   "id": "bd2c3e23",
   "metadata": {},
   "outputs": [],
   "source": [
    "# DEPENDENT\n",
    "Essn = [333445555, 333445555, 333445555, 987654321, 123456789, 123456789, 123456789]\n",
    "Dependent_name = ['Alice', 'Theodore', 'Joy', 'Abner', 'Michael', 'Alice', 'Elizebeth']\n",
    "Sex = ['F', 'M', 'F', 'M', 'M', 'F', 'F']\n",
    "Bdate = ['1986-04-05', '1983-10-25', '1958-05-03', '1942-02-28', '1988-01-04', '1988-12-30', '1967-05-05']\n",
    "Relationship = ['Daughter', 'Son', 'Spouse', 'Spouse', 'Son', 'Daughter', 'Spouse']\n",
    "dependent_table = [Essn, Dependent_name, Sex, Bdate, Relationship]"
   ]
  },
  {
   "cell_type": "code",
   "execution_count": null,
   "id": "3e3cacae",
   "metadata": {},
   "outputs": [],
   "source": [
    "check_data(dependent_table)"
   ]
  },
  {
   "cell_type": "code",
   "execution_count": null,
   "id": "246d6fbb",
   "metadata": {},
   "outputs": [],
   "source": [
    "for i in range(len(Essn)):\n",
    "    db_dml(\"insert or ignore into dependent (Essn, Dependent_name, Sex, Bdate, Relationship) values (?, ?, ?, ?, ?)\", (Essn[i], Dependent_name[i], Sex[i], Bdate[i], Relationship[i]))"
   ]
  },
  {
   "cell_type": "code",
   "execution_count": null,
   "id": "9106d92f",
   "metadata": {
    "scrolled": true
   },
   "outputs": [],
   "source": [
    "for i in tables:\n",
    "    print(i, '\\n', read_table(i))"
   ]
  },
  {
   "cell_type": "code",
   "execution_count": null,
   "id": "ac42ed7a",
   "metadata": {},
   "outputs": [],
   "source": [
    "# Retrieve ssns of employees who work on all projects that John Smith works on"
   ]
  },
  {
   "cell_type": "code",
   "execution_count": null,
   "id": "d5fad4ab",
   "metadata": {},
   "outputs": [],
   "source": [
    "conn = sqlite3.connect(\"./Data/database.db\")\n",
    "c = conn.cursor()\n",
    "c.execute(\"select essn from works_on where pno=(select works_on.pno from (employee, works_on) where employee.ssn=works_on.essn and employee.fname='John' and employee.lname='Smith')\")\n",
    "data = c.fetchall()\n",
    "conn.close()"
   ]
  },
  {
   "cell_type": "code",
   "execution_count": null,
   "id": "a5da4ed8",
   "metadata": {},
   "outputs": [],
   "source": []
  }
 ],
 "metadata": {
  "kernelspec": {
   "display_name": "Python 3",
   "language": "python",
   "name": "python3"
  },
  "language_info": {
   "codemirror_mode": {
    "name": "ipython",
    "version": 3
   },
   "file_extension": ".py",
   "mimetype": "text/x-python",
   "name": "python",
   "nbconvert_exporter": "python",
   "pygments_lexer": "ipython3",
   "version": "3.8.8"
  }
 },
 "nbformat": 4,
 "nbformat_minor": 5
}
